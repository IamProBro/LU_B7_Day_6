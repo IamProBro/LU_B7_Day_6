{
 "cells": [
  {
   "cell_type": "markdown",
   "metadata": {},
   "source": [
    "# Question 1\n",
    "\n",
    "For this challenge,create a bank account class that has two attributes"
   ]
  },
  {
   "cell_type": "code",
   "execution_count": 9,
   "metadata": {},
   "outputs": [],
   "source": [
    "class BankAcc():\n",
    "    def __init__(self,ownname,bal):\n",
    "        self.ownname = ownname\n",
    "        self.bal = bal\n",
    "               \n",
    "    def deposit(self):\n",
    "        dep = input(\"Amount to be Deposited -  \")\n",
    "        dep = int(dep)\n",
    "        self.bal += dep\n",
    "        print(\"Present Balance is - \", self.bal)\n",
    "    \n",
    "    def withdraw(self):\n",
    "        wdraw = input(\"Amount to be withdrawn -  \")\n",
    "        wdraw = int(wdraw)\n",
    "        \n",
    "        if wdraw > self.bal:\n",
    "            print(\"Withdrawal Amount is greater than balance\")\n",
    "        else:\n",
    "            self.bal = self.bal - wdraw\n",
    "            print(\"Present Balance in Account is - \",self.bal)\n",
    "            \n",
    "    def details(self):\n",
    "        print(\"Account Owner is: \", self.ownname)\n",
    "        print(\"Available Balance: \", self.bal,\"Rs\")"
   ]
  },
  {
   "cell_type": "code",
   "execution_count": 2,
   "metadata": {},
   "outputs": [],
   "source": [
    "mit = BankAcc(\"Mithun\", 5000)"
   ]
  },
  {
   "cell_type": "code",
   "execution_count": 3,
   "metadata": {},
   "outputs": [
    {
     "name": "stdout",
     "output_type": "stream",
     "text": [
      "Account Owner is:  Mithun\n",
      "Available Balance:  5000 Rs\n"
     ]
    }
   ],
   "source": [
    "mit.details()"
   ]
  },
  {
   "cell_type": "code",
   "execution_count": 4,
   "metadata": {},
   "outputs": [
    {
     "name": "stdout",
     "output_type": "stream",
     "text": [
      "Amount to be Deposited -  2000\n",
      "Present Balance is -  7000\n"
     ]
    }
   ],
   "source": [
    "mit.deposit()"
   ]
  },
  {
   "cell_type": "code",
   "execution_count": 5,
   "metadata": {},
   "outputs": [
    {
     "name": "stdout",
     "output_type": "stream",
     "text": [
      "Account Owner is:  Mithun\n",
      "Available Balance:  7000 Rs\n"
     ]
    }
   ],
   "source": [
    "mit.details()"
   ]
  },
  {
   "cell_type": "code",
   "execution_count": 6,
   "metadata": {},
   "outputs": [
    {
     "name": "stdout",
     "output_type": "stream",
     "text": [
      "Amount to be withdrawn -  1000\n",
      "Present Balance in Account is -  6000\n"
     ]
    }
   ],
   "source": [
    "mit.withdraw()"
   ]
  },
  {
   "cell_type": "code",
   "execution_count": 7,
   "metadata": {},
   "outputs": [
    {
     "name": "stdout",
     "output_type": "stream",
     "text": [
      "Amount to be withdrawn -  9000\n",
      "Withdrawal Amount is greater than balance\n"
     ]
    }
   ],
   "source": [
    "mit.withdraw()"
   ]
  },
  {
   "cell_type": "code",
   "execution_count": 8,
   "metadata": {},
   "outputs": [
    {
     "name": "stdout",
     "output_type": "stream",
     "text": [
      "Account Owner is:  Mithun\n",
      "Available Balance:  6000 Rs\n"
     ]
    }
   ],
   "source": [
    "mit.details()"
   ]
  },
  {
   "cell_type": "code",
   "execution_count": 10,
   "metadata": {},
   "outputs": [
    {
     "name": "stdout",
     "output_type": "stream",
     "text": [
      "Amount to be withdrawn -  90000\n",
      "Withdrawal Amount is greater than balance\n"
     ]
    }
   ],
   "source": [
    "mit.withdraw()"
   ]
  },
  {
   "cell_type": "code",
   "execution_count": 11,
   "metadata": {},
   "outputs": [
    {
     "name": "stdout",
     "output_type": "stream",
     "text": [
      "Amount to be Deposited -  8000\n",
      "Present Balance is -  14000\n"
     ]
    }
   ],
   "source": [
    "mit.deposit()"
   ]
  },
  {
   "cell_type": "code",
   "execution_count": 12,
   "metadata": {},
   "outputs": [
    {
     "name": "stdout",
     "output_type": "stream",
     "text": [
      "Amount to be withdrawn -  90000\n",
      "Withdrawal Amount is greater than balance\n"
     ]
    }
   ],
   "source": [
    "mit.withdraw()"
   ]
  },
  {
   "cell_type": "markdown",
   "metadata": {},
   "source": [
    "# Question 2\n",
    "For this challenge,create a cone class that has two attributes:"
   ]
  },
  {
   "cell_type": "code",
   "execution_count": 30,
   "metadata": {},
   "outputs": [],
   "source": [
    "import math\n",
    "class cone():\n",
    "    def __init__(self,rad,height):\n",
    "        self.rad = rad\n",
    "        self.height = height\n",
    "    \n",
    "    def volume(self):\n",
    "        vol = (math.pi * (self.rad**2)*self.height)/3\n",
    "        print(\"The volume of cone is - \",vol)\n",
    "        \n",
    "    def lsa(self):\n",
    "    #This is lateral surface area\n",
    "        lsa = math.pi * self.rad * math.sqrt(self.height**2 + self.rad**2)\n",
    "        print(\"The Lateral Surface area of cone is - \", lsa)\n",
    "    def tsa(self):\n",
    "        tsa = math.pi * self.rad * (self.rad + math.sqrt(self.height**2 + self.rad**2))\n",
    "        print(\"The Total Surface area of cone is - \", tsa)"
   ]
  },
  {
   "cell_type": "code",
   "execution_count": 31,
   "metadata": {},
   "outputs": [],
   "source": [
    "cone1 = cone(8,6)"
   ]
  },
  {
   "cell_type": "code",
   "execution_count": 32,
   "metadata": {},
   "outputs": [
    {
     "data": {
      "text/plain": [
       "6"
      ]
     },
     "execution_count": 32,
     "metadata": {},
     "output_type": "execute_result"
    }
   ],
   "source": [
    "cone1.height"
   ]
  },
  {
   "cell_type": "code",
   "execution_count": 33,
   "metadata": {},
   "outputs": [
    {
     "data": {
      "text/plain": [
       "8"
      ]
     },
     "execution_count": 33,
     "metadata": {},
     "output_type": "execute_result"
    }
   ],
   "source": [
    "cone1.rad"
   ]
  },
  {
   "cell_type": "code",
   "execution_count": 34,
   "metadata": {},
   "outputs": [
    {
     "name": "stdout",
     "output_type": "stream",
     "text": [
      "The volume of cone is -  402.1238596594935\n"
     ]
    }
   ],
   "source": [
    "cone1.volume()"
   ]
  },
  {
   "cell_type": "code",
   "execution_count": 37,
   "metadata": {},
   "outputs": [
    {
     "name": "stdout",
     "output_type": "stream",
     "text": [
      "The Lateral Surface area of cone is -  251.32741228718345\n"
     ]
    }
   ],
   "source": [
    "cone1.lsa()"
   ]
  },
  {
   "cell_type": "code",
   "execution_count": 38,
   "metadata": {},
   "outputs": [
    {
     "name": "stdout",
     "output_type": "stream",
     "text": [
      "The Total Surface area of cone is -  452.3893421169302\n"
     ]
    }
   ],
   "source": [
    "cone1.tsa()"
   ]
  }
 ],
 "metadata": {
  "kernelspec": {
   "display_name": "Python 3",
   "language": "python",
   "name": "python3"
  },
  "language_info": {
   "codemirror_mode": {
    "name": "ipython",
    "version": 3
   },
   "file_extension": ".py",
   "mimetype": "text/x-python",
   "name": "python",
   "nbconvert_exporter": "python",
   "pygments_lexer": "ipython3",
   "version": "3.7.9"
  }
 },
 "nbformat": 4,
 "nbformat_minor": 4
}
